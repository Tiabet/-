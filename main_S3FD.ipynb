{
 "cells": [
  {
   "cell_type": "code",
   "id": "initial_id",
   "metadata": {
    "collapsed": true,
    "ExecuteTime": {
     "end_time": "2024-11-19T03:57:41.980504Z",
     "start_time": "2024-11-19T03:57:38.869638Z"
    }
   },
   "source": [
    "import torch\n",
    "import cv2\n",
    "\n",
    "from S3FD.data.config import cfg\n",
    "from S3FD.s3fd_model import build_s3fd\n",
    "from S3FD.utils.augmentations import to_chw_bgr\n",
    "\n",
    "from common.det_face import DetFace"
   ],
   "outputs": [],
   "execution_count": 1
  },
  {
   "metadata": {},
   "cell_type": "markdown",
   "source": "- 모델 로드",
   "id": "fb8290ee39841a29"
  },
  {
   "metadata": {
    "ExecuteTime": {
     "end_time": "2024-11-19T03:57:44.393121Z",
     "start_time": "2024-11-19T03:57:43.999412Z"
    }
   },
   "cell_type": "code",
   "source": [
    "def load_model(phase='test', device='cpu'):\n",
    "    net = build_s3fd(phase, cfg.NUM_CLASSES)\n",
    "\n",
    "    net.load_state_dict(torch.load('./S3FD/weights/sfd_face.pth', map_location=torch.device(device)))\n",
    "    net.eval()\n",
    "    return net\n",
    "\n",
    "mode = 'test'\n",
    "model = load_model(phase=mode, device='cpu')"
   ],
   "id": "354a2459a043a9cc",
   "outputs": [],
   "execution_count": 2
  },
  {
   "metadata": {},
   "cell_type": "markdown",
   "source": "- 테스트",
   "id": "be33852f1847d87c"
  },
  {
   "metadata": {
    "ExecuteTime": {
     "end_time": "2024-11-19T03:57:49.063667Z",
     "start_time": "2024-11-19T03:57:49.053340Z"
    }
   },
   "cell_type": "code",
   "source": [
    "def detect_faces(__model, frame, thresh=0.2):\n",
    "    img_orig = frame\n",
    "    img = cv2.cvtColor(img_orig.copy(), cv2.COLOR_BGR2RGB)\n",
    "\n",
    "    image = img\n",
    "    x = to_chw_bgr(image)\n",
    "    x = x.astype('float32')\n",
    "    x -= cfg.img_mean\n",
    "    x = x[[2, 1, 0], :, :]\n",
    "\n",
    "    x = torch.from_numpy(x).unsqueeze(0)\n",
    "\n",
    "    with torch.no_grad():\n",
    "        y = __model(x)\n",
    "    detections = y.data\n",
    "\n",
    "    img = img_orig.copy()\n",
    "    scale = torch.Tensor([img.shape[1], img.shape[0], img.shape[1], img.shape[0]])\n",
    "\n",
    "    det_faces = []\n",
    "    for i in range(detections.size(1)):\n",
    "        j = 0\n",
    "        while detections[0, i, j, 0] >= thresh:\n",
    "            pt = (detections[0, i, j, 1:] * scale).cpu().numpy()\n",
    "            score = detections[0, i, j, 0].cpu().numpy()\n",
    "\n",
    "            det_faces.append(DetFace(float(score), (pt[0], pt[1], pt[2], pt[3])))\n",
    "            j += 1\n",
    "\n",
    "    return det_faces"
   ],
   "id": "7665c5078a59e10d",
   "outputs": [],
   "execution_count": 3
  },
  {
   "metadata": {
    "ExecuteTime": {
     "end_time": "2024-11-19T03:57:50.091102Z",
     "start_time": "2024-11-19T03:57:50.082102Z"
    }
   },
   "cell_type": "code",
   "source": [
    "def display_result(image_path, model):\n",
    "    image_path = \"./images/test_image.jpg\"\n",
    "    frame = cv2.imread(image_path)\n",
    "    faces = detect_faces(model, frame)\n",
    "\n",
    "    # 시각화\n",
    "    for face in faces:\n",
    "        x_min, y_min, x_max, y_max = map(int, face.bbox)\n",
    "        cv2.rectangle(frame, (x_min, y_min), (x_max, y_max), (0, 255, 0), 2)  # 경계 상자\n",
    "        cv2.putText(frame, f\"{face.conf:.2f}\", (x_min, y_min - 10),\n",
    "                    cv2.FONT_HERSHEY_SIMPLEX, 0.5, (0, 255, 0), 2)  # 신뢰도\n",
    "    \n",
    "    # 결과 이미지 보기\n",
    "    cv2.imshow('Detected Faces', frame)\n",
    "    cv2.waitKey(0)\n",
    "    cv2.destroyAllWindows()"
   ],
   "id": "2a5c877a1b461cc5",
   "outputs": [],
   "execution_count": 4
  },
  {
   "metadata": {
    "ExecuteTime": {
     "end_time": "2024-11-19T03:57:58.371638Z",
     "start_time": "2024-11-19T03:57:54.487661Z"
    }
   },
   "cell_type": "code",
   "source": [
    "image_path = \"./images/test_image.jpg\"\n",
    "frame = cv2.imread(image_path)\n",
    "faces = detect_faces(model, frame)\n",
    "\n",
    "# 얼굴 감지 결과 출력\n",
    "for face in faces:\n",
    "    print(f\"Confidence: {face.conf}, Bounding Box: {face.bbox}\")"
   ],
   "id": "f84655f6a0cc1e20",
   "outputs": [
    {
     "name": "stdout",
     "output_type": "stream",
     "text": [
      "Confidence: 0.9999998807907104, Bounding Box: (424.65997, 124.141426, 688.69727, 469.66187)\n",
      "Confidence: 0.3810512125492096, Bounding Box: (653.3873, 755.29443, 915.21954, 1012.1224)\n",
      "Confidence: 0.29773664474487305, Bounding Box: (822.1539, 805.07446, 1321.1066, 1316.6844)\n",
      "Confidence: 0.23724570870399475, Bounding Box: (810.61646, -41.50844, 1287.7639, 458.92633)\n",
      "Confidence: 0.21913231909275055, Bounding Box: (933.8792, 928.1095, 1173.6028, 1170.0208)\n"
     ]
    },
    {
     "name": "stderr",
     "output_type": "stream",
     "text": [
      "C:\\Users\\eunhak\\workspace\\face_detection\\S3FD\\layers\\bbox_utils.py:287: UserWarning: An output with one or more elements was resized since it had shape [97], which does not match the required output shape [76]. This behavior is deprecated, and in a future PyTorch release outputs will not be resized unless they have zero elements. You can explicitly reuse an out tensor t by resizing it, inplace, to zero elements with t.resize_(0). (Triggered internally at C:\\actions-runner\\_work\\pytorch\\pytorch\\builder\\windows\\pytorch\\aten\\src\\ATen\\native\\Resize.cpp:35.)\n",
      "  torch.index_select(x1, 0, idx, out=xx1)\n",
      "C:\\Users\\eunhak\\workspace\\face_detection\\S3FD\\layers\\bbox_utils.py:288: UserWarning: An output with one or more elements was resized since it had shape [97], which does not match the required output shape [76]. This behavior is deprecated, and in a future PyTorch release outputs will not be resized unless they have zero elements. You can explicitly reuse an out tensor t by resizing it, inplace, to zero elements with t.resize_(0). (Triggered internally at C:\\actions-runner\\_work\\pytorch\\pytorch\\builder\\windows\\pytorch\\aten\\src\\ATen\\native\\Resize.cpp:35.)\n",
      "  torch.index_select(y1, 0, idx, out=yy1)\n",
      "C:\\Users\\eunhak\\workspace\\face_detection\\S3FD\\layers\\bbox_utils.py:289: UserWarning: An output with one or more elements was resized since it had shape [97], which does not match the required output shape [76]. This behavior is deprecated, and in a future PyTorch release outputs will not be resized unless they have zero elements. You can explicitly reuse an out tensor t by resizing it, inplace, to zero elements with t.resize_(0). (Triggered internally at C:\\actions-runner\\_work\\pytorch\\pytorch\\builder\\windows\\pytorch\\aten\\src\\ATen\\native\\Resize.cpp:35.)\n",
      "  torch.index_select(x2, 0, idx, out=xx2)\n",
      "C:\\Users\\eunhak\\workspace\\face_detection\\S3FD\\layers\\bbox_utils.py:290: UserWarning: An output with one or more elements was resized since it had shape [97], which does not match the required output shape [76]. This behavior is deprecated, and in a future PyTorch release outputs will not be resized unless they have zero elements. You can explicitly reuse an out tensor t by resizing it, inplace, to zero elements with t.resize_(0). (Triggered internally at C:\\actions-runner\\_work\\pytorch\\pytorch\\builder\\windows\\pytorch\\aten\\src\\ATen\\native\\Resize.cpp:35.)\n",
      "  torch.index_select(y2, 0, idx, out=yy2)\n",
      "C:\\Users\\eunhak\\workspace\\face_detection\\S3FD\\layers\\bbox_utils.py:287: UserWarning: An output with one or more elements was resized since it had shape [76], which does not match the required output shape [60]. This behavior is deprecated, and in a future PyTorch release outputs will not be resized unless they have zero elements. You can explicitly reuse an out tensor t by resizing it, inplace, to zero elements with t.resize_(0). (Triggered internally at C:\\actions-runner\\_work\\pytorch\\pytorch\\builder\\windows\\pytorch\\aten\\src\\ATen\\native\\Resize.cpp:35.)\n",
      "  torch.index_select(x1, 0, idx, out=xx1)\n",
      "C:\\Users\\eunhak\\workspace\\face_detection\\S3FD\\layers\\bbox_utils.py:288: UserWarning: An output with one or more elements was resized since it had shape [76], which does not match the required output shape [60]. This behavior is deprecated, and in a future PyTorch release outputs will not be resized unless they have zero elements. You can explicitly reuse an out tensor t by resizing it, inplace, to zero elements with t.resize_(0). (Triggered internally at C:\\actions-runner\\_work\\pytorch\\pytorch\\builder\\windows\\pytorch\\aten\\src\\ATen\\native\\Resize.cpp:35.)\n",
      "  torch.index_select(y1, 0, idx, out=yy1)\n",
      "C:\\Users\\eunhak\\workspace\\face_detection\\S3FD\\layers\\bbox_utils.py:289: UserWarning: An output with one or more elements was resized since it had shape [76], which does not match the required output shape [60]. This behavior is deprecated, and in a future PyTorch release outputs will not be resized unless they have zero elements. You can explicitly reuse an out tensor t by resizing it, inplace, to zero elements with t.resize_(0). (Triggered internally at C:\\actions-runner\\_work\\pytorch\\pytorch\\builder\\windows\\pytorch\\aten\\src\\ATen\\native\\Resize.cpp:35.)\n",
      "  torch.index_select(x2, 0, idx, out=xx2)\n",
      "C:\\Users\\eunhak\\workspace\\face_detection\\S3FD\\layers\\bbox_utils.py:290: UserWarning: An output with one or more elements was resized since it had shape [76], which does not match the required output shape [60]. This behavior is deprecated, and in a future PyTorch release outputs will not be resized unless they have zero elements. You can explicitly reuse an out tensor t by resizing it, inplace, to zero elements with t.resize_(0). (Triggered internally at C:\\actions-runner\\_work\\pytorch\\pytorch\\builder\\windows\\pytorch\\aten\\src\\ATen\\native\\Resize.cpp:35.)\n",
      "  torch.index_select(y2, 0, idx, out=yy2)\n",
      "C:\\Users\\eunhak\\workspace\\face_detection\\S3FD\\layers\\bbox_utils.py:287: UserWarning: An output with one or more elements was resized since it had shape [60], which does not match the required output shape [56]. This behavior is deprecated, and in a future PyTorch release outputs will not be resized unless they have zero elements. You can explicitly reuse an out tensor t by resizing it, inplace, to zero elements with t.resize_(0). (Triggered internally at C:\\actions-runner\\_work\\pytorch\\pytorch\\builder\\windows\\pytorch\\aten\\src\\ATen\\native\\Resize.cpp:35.)\n",
      "  torch.index_select(x1, 0, idx, out=xx1)\n",
      "C:\\Users\\eunhak\\workspace\\face_detection\\S3FD\\layers\\bbox_utils.py:288: UserWarning: An output with one or more elements was resized since it had shape [60], which does not match the required output shape [56]. This behavior is deprecated, and in a future PyTorch release outputs will not be resized unless they have zero elements. You can explicitly reuse an out tensor t by resizing it, inplace, to zero elements with t.resize_(0). (Triggered internally at C:\\actions-runner\\_work\\pytorch\\pytorch\\builder\\windows\\pytorch\\aten\\src\\ATen\\native\\Resize.cpp:35.)\n",
      "  torch.index_select(y1, 0, idx, out=yy1)\n",
      "C:\\Users\\eunhak\\workspace\\face_detection\\S3FD\\layers\\bbox_utils.py:289: UserWarning: An output with one or more elements was resized since it had shape [60], which does not match the required output shape [56]. This behavior is deprecated, and in a future PyTorch release outputs will not be resized unless they have zero elements. You can explicitly reuse an out tensor t by resizing it, inplace, to zero elements with t.resize_(0). (Triggered internally at C:\\actions-runner\\_work\\pytorch\\pytorch\\builder\\windows\\pytorch\\aten\\src\\ATen\\native\\Resize.cpp:35.)\n",
      "  torch.index_select(x2, 0, idx, out=xx2)\n",
      "C:\\Users\\eunhak\\workspace\\face_detection\\S3FD\\layers\\bbox_utils.py:290: UserWarning: An output with one or more elements was resized since it had shape [60], which does not match the required output shape [56]. This behavior is deprecated, and in a future PyTorch release outputs will not be resized unless they have zero elements. You can explicitly reuse an out tensor t by resizing it, inplace, to zero elements with t.resize_(0). (Triggered internally at C:\\actions-runner\\_work\\pytorch\\pytorch\\builder\\windows\\pytorch\\aten\\src\\ATen\\native\\Resize.cpp:35.)\n",
      "  torch.index_select(y2, 0, idx, out=yy2)\n",
      "C:\\Users\\eunhak\\workspace\\face_detection\\S3FD\\layers\\bbox_utils.py:287: UserWarning: An output with one or more elements was resized since it had shape [56], which does not match the required output shape [52]. This behavior is deprecated, and in a future PyTorch release outputs will not be resized unless they have zero elements. You can explicitly reuse an out tensor t by resizing it, inplace, to zero elements with t.resize_(0). (Triggered internally at C:\\actions-runner\\_work\\pytorch\\pytorch\\builder\\windows\\pytorch\\aten\\src\\ATen\\native\\Resize.cpp:35.)\n",
      "  torch.index_select(x1, 0, idx, out=xx1)\n",
      "C:\\Users\\eunhak\\workspace\\face_detection\\S3FD\\layers\\bbox_utils.py:288: UserWarning: An output with one or more elements was resized since it had shape [56], which does not match the required output shape [52]. This behavior is deprecated, and in a future PyTorch release outputs will not be resized unless they have zero elements. You can explicitly reuse an out tensor t by resizing it, inplace, to zero elements with t.resize_(0). (Triggered internally at C:\\actions-runner\\_work\\pytorch\\pytorch\\builder\\windows\\pytorch\\aten\\src\\ATen\\native\\Resize.cpp:35.)\n",
      "  torch.index_select(y1, 0, idx, out=yy1)\n",
      "C:\\Users\\eunhak\\workspace\\face_detection\\S3FD\\layers\\bbox_utils.py:289: UserWarning: An output with one or more elements was resized since it had shape [56], which does not match the required output shape [52]. This behavior is deprecated, and in a future PyTorch release outputs will not be resized unless they have zero elements. You can explicitly reuse an out tensor t by resizing it, inplace, to zero elements with t.resize_(0). (Triggered internally at C:\\actions-runner\\_work\\pytorch\\pytorch\\builder\\windows\\pytorch\\aten\\src\\ATen\\native\\Resize.cpp:35.)\n",
      "  torch.index_select(x2, 0, idx, out=xx2)\n",
      "C:\\Users\\eunhak\\workspace\\face_detection\\S3FD\\layers\\bbox_utils.py:290: UserWarning: An output with one or more elements was resized since it had shape [56], which does not match the required output shape [52]. This behavior is deprecated, and in a future PyTorch release outputs will not be resized unless they have zero elements. You can explicitly reuse an out tensor t by resizing it, inplace, to zero elements with t.resize_(0). (Triggered internally at C:\\actions-runner\\_work\\pytorch\\pytorch\\builder\\windows\\pytorch\\aten\\src\\ATen\\native\\Resize.cpp:35.)\n",
      "  torch.index_select(y2, 0, idx, out=yy2)\n",
      "C:\\Users\\eunhak\\workspace\\face_detection\\S3FD\\layers\\bbox_utils.py:287: UserWarning: An output with one or more elements was resized since it had shape [52], which does not match the required output shape [48]. This behavior is deprecated, and in a future PyTorch release outputs will not be resized unless they have zero elements. You can explicitly reuse an out tensor t by resizing it, inplace, to zero elements with t.resize_(0). (Triggered internally at C:\\actions-runner\\_work\\pytorch\\pytorch\\builder\\windows\\pytorch\\aten\\src\\ATen\\native\\Resize.cpp:35.)\n",
      "  torch.index_select(x1, 0, idx, out=xx1)\n",
      "C:\\Users\\eunhak\\workspace\\face_detection\\S3FD\\layers\\bbox_utils.py:288: UserWarning: An output with one or more elements was resized since it had shape [52], which does not match the required output shape [48]. This behavior is deprecated, and in a future PyTorch release outputs will not be resized unless they have zero elements. You can explicitly reuse an out tensor t by resizing it, inplace, to zero elements with t.resize_(0). (Triggered internally at C:\\actions-runner\\_work\\pytorch\\pytorch\\builder\\windows\\pytorch\\aten\\src\\ATen\\native\\Resize.cpp:35.)\n",
      "  torch.index_select(y1, 0, idx, out=yy1)\n",
      "C:\\Users\\eunhak\\workspace\\face_detection\\S3FD\\layers\\bbox_utils.py:289: UserWarning: An output with one or more elements was resized since it had shape [52], which does not match the required output shape [48]. This behavior is deprecated, and in a future PyTorch release outputs will not be resized unless they have zero elements. You can explicitly reuse an out tensor t by resizing it, inplace, to zero elements with t.resize_(0). (Triggered internally at C:\\actions-runner\\_work\\pytorch\\pytorch\\builder\\windows\\pytorch\\aten\\src\\ATen\\native\\Resize.cpp:35.)\n",
      "  torch.index_select(x2, 0, idx, out=xx2)\n",
      "C:\\Users\\eunhak\\workspace\\face_detection\\S3FD\\layers\\bbox_utils.py:290: UserWarning: An output with one or more elements was resized since it had shape [52], which does not match the required output shape [48]. This behavior is deprecated, and in a future PyTorch release outputs will not be resized unless they have zero elements. You can explicitly reuse an out tensor t by resizing it, inplace, to zero elements with t.resize_(0). (Triggered internally at C:\\actions-runner\\_work\\pytorch\\pytorch\\builder\\windows\\pytorch\\aten\\src\\ATen\\native\\Resize.cpp:35.)\n",
      "  torch.index_select(y2, 0, idx, out=yy2)\n",
      "C:\\Users\\eunhak\\workspace\\face_detection\\S3FD\\layers\\bbox_utils.py:287: UserWarning: An output with one or more elements was resized since it had shape [48], which does not match the required output shape [39]. This behavior is deprecated, and in a future PyTorch release outputs will not be resized unless they have zero elements. You can explicitly reuse an out tensor t by resizing it, inplace, to zero elements with t.resize_(0). (Triggered internally at C:\\actions-runner\\_work\\pytorch\\pytorch\\builder\\windows\\pytorch\\aten\\src\\ATen\\native\\Resize.cpp:35.)\n",
      "  torch.index_select(x1, 0, idx, out=xx1)\n",
      "C:\\Users\\eunhak\\workspace\\face_detection\\S3FD\\layers\\bbox_utils.py:288: UserWarning: An output with one or more elements was resized since it had shape [48], which does not match the required output shape [39]. This behavior is deprecated, and in a future PyTorch release outputs will not be resized unless they have zero elements. You can explicitly reuse an out tensor t by resizing it, inplace, to zero elements with t.resize_(0). (Triggered internally at C:\\actions-runner\\_work\\pytorch\\pytorch\\builder\\windows\\pytorch\\aten\\src\\ATen\\native\\Resize.cpp:35.)\n",
      "  torch.index_select(y1, 0, idx, out=yy1)\n",
      "C:\\Users\\eunhak\\workspace\\face_detection\\S3FD\\layers\\bbox_utils.py:289: UserWarning: An output with one or more elements was resized since it had shape [48], which does not match the required output shape [39]. This behavior is deprecated, and in a future PyTorch release outputs will not be resized unless they have zero elements. You can explicitly reuse an out tensor t by resizing it, inplace, to zero elements with t.resize_(0). (Triggered internally at C:\\actions-runner\\_work\\pytorch\\pytorch\\builder\\windows\\pytorch\\aten\\src\\ATen\\native\\Resize.cpp:35.)\n",
      "  torch.index_select(x2, 0, idx, out=xx2)\n",
      "C:\\Users\\eunhak\\workspace\\face_detection\\S3FD\\layers\\bbox_utils.py:290: UserWarning: An output with one or more elements was resized since it had shape [48], which does not match the required output shape [39]. This behavior is deprecated, and in a future PyTorch release outputs will not be resized unless they have zero elements. You can explicitly reuse an out tensor t by resizing it, inplace, to zero elements with t.resize_(0). (Triggered internally at C:\\actions-runner\\_work\\pytorch\\pytorch\\builder\\windows\\pytorch\\aten\\src\\ATen\\native\\Resize.cpp:35.)\n",
      "  torch.index_select(y2, 0, idx, out=yy2)\n",
      "C:\\Users\\eunhak\\workspace\\face_detection\\S3FD\\layers\\bbox_utils.py:287: UserWarning: An output with one or more elements was resized since it had shape [39], which does not match the required output shape [37]. This behavior is deprecated, and in a future PyTorch release outputs will not be resized unless they have zero elements. You can explicitly reuse an out tensor t by resizing it, inplace, to zero elements with t.resize_(0). (Triggered internally at C:\\actions-runner\\_work\\pytorch\\pytorch\\builder\\windows\\pytorch\\aten\\src\\ATen\\native\\Resize.cpp:35.)\n",
      "  torch.index_select(x1, 0, idx, out=xx1)\n",
      "C:\\Users\\eunhak\\workspace\\face_detection\\S3FD\\layers\\bbox_utils.py:288: UserWarning: An output with one or more elements was resized since it had shape [39], which does not match the required output shape [37]. This behavior is deprecated, and in a future PyTorch release outputs will not be resized unless they have zero elements. You can explicitly reuse an out tensor t by resizing it, inplace, to zero elements with t.resize_(0). (Triggered internally at C:\\actions-runner\\_work\\pytorch\\pytorch\\builder\\windows\\pytorch\\aten\\src\\ATen\\native\\Resize.cpp:35.)\n",
      "  torch.index_select(y1, 0, idx, out=yy1)\n",
      "C:\\Users\\eunhak\\workspace\\face_detection\\S3FD\\layers\\bbox_utils.py:289: UserWarning: An output with one or more elements was resized since it had shape [39], which does not match the required output shape [37]. This behavior is deprecated, and in a future PyTorch release outputs will not be resized unless they have zero elements. You can explicitly reuse an out tensor t by resizing it, inplace, to zero elements with t.resize_(0). (Triggered internally at C:\\actions-runner\\_work\\pytorch\\pytorch\\builder\\windows\\pytorch\\aten\\src\\ATen\\native\\Resize.cpp:35.)\n",
      "  torch.index_select(x2, 0, idx, out=xx2)\n",
      "C:\\Users\\eunhak\\workspace\\face_detection\\S3FD\\layers\\bbox_utils.py:290: UserWarning: An output with one or more elements was resized since it had shape [39], which does not match the required output shape [37]. This behavior is deprecated, and in a future PyTorch release outputs will not be resized unless they have zero elements. You can explicitly reuse an out tensor t by resizing it, inplace, to zero elements with t.resize_(0). (Triggered internally at C:\\actions-runner\\_work\\pytorch\\pytorch\\builder\\windows\\pytorch\\aten\\src\\ATen\\native\\Resize.cpp:35.)\n",
      "  torch.index_select(y2, 0, idx, out=yy2)\n",
      "C:\\Users\\eunhak\\workspace\\face_detection\\S3FD\\layers\\bbox_utils.py:287: UserWarning: An output with one or more elements was resized since it had shape [37], which does not match the required output shape [35]. This behavior is deprecated, and in a future PyTorch release outputs will not be resized unless they have zero elements. You can explicitly reuse an out tensor t by resizing it, inplace, to zero elements with t.resize_(0). (Triggered internally at C:\\actions-runner\\_work\\pytorch\\pytorch\\builder\\windows\\pytorch\\aten\\src\\ATen\\native\\Resize.cpp:35.)\n",
      "  torch.index_select(x1, 0, idx, out=xx1)\n",
      "C:\\Users\\eunhak\\workspace\\face_detection\\S3FD\\layers\\bbox_utils.py:288: UserWarning: An output with one or more elements was resized since it had shape [37], which does not match the required output shape [35]. This behavior is deprecated, and in a future PyTorch release outputs will not be resized unless they have zero elements. You can explicitly reuse an out tensor t by resizing it, inplace, to zero elements with t.resize_(0). (Triggered internally at C:\\actions-runner\\_work\\pytorch\\pytorch\\builder\\windows\\pytorch\\aten\\src\\ATen\\native\\Resize.cpp:35.)\n",
      "  torch.index_select(y1, 0, idx, out=yy1)\n",
      "C:\\Users\\eunhak\\workspace\\face_detection\\S3FD\\layers\\bbox_utils.py:289: UserWarning: An output with one or more elements was resized since it had shape [37], which does not match the required output shape [35]. This behavior is deprecated, and in a future PyTorch release outputs will not be resized unless they have zero elements. You can explicitly reuse an out tensor t by resizing it, inplace, to zero elements with t.resize_(0). (Triggered internally at C:\\actions-runner\\_work\\pytorch\\pytorch\\builder\\windows\\pytorch\\aten\\src\\ATen\\native\\Resize.cpp:35.)\n",
      "  torch.index_select(x2, 0, idx, out=xx2)\n",
      "C:\\Users\\eunhak\\workspace\\face_detection\\S3FD\\layers\\bbox_utils.py:290: UserWarning: An output with one or more elements was resized since it had shape [37], which does not match the required output shape [35]. This behavior is deprecated, and in a future PyTorch release outputs will not be resized unless they have zero elements. You can explicitly reuse an out tensor t by resizing it, inplace, to zero elements with t.resize_(0). (Triggered internally at C:\\actions-runner\\_work\\pytorch\\pytorch\\builder\\windows\\pytorch\\aten\\src\\ATen\\native\\Resize.cpp:35.)\n",
      "  torch.index_select(y2, 0, idx, out=yy2)\n",
      "C:\\Users\\eunhak\\workspace\\face_detection\\S3FD\\layers\\bbox_utils.py:287: UserWarning: An output with one or more elements was resized since it had shape [35], which does not match the required output shape [32]. This behavior is deprecated, and in a future PyTorch release outputs will not be resized unless they have zero elements. You can explicitly reuse an out tensor t by resizing it, inplace, to zero elements with t.resize_(0). (Triggered internally at C:\\actions-runner\\_work\\pytorch\\pytorch\\builder\\windows\\pytorch\\aten\\src\\ATen\\native\\Resize.cpp:35.)\n",
      "  torch.index_select(x1, 0, idx, out=xx1)\n",
      "C:\\Users\\eunhak\\workspace\\face_detection\\S3FD\\layers\\bbox_utils.py:288: UserWarning: An output with one or more elements was resized since it had shape [35], which does not match the required output shape [32]. This behavior is deprecated, and in a future PyTorch release outputs will not be resized unless they have zero elements. You can explicitly reuse an out tensor t by resizing it, inplace, to zero elements with t.resize_(0). (Triggered internally at C:\\actions-runner\\_work\\pytorch\\pytorch\\builder\\windows\\pytorch\\aten\\src\\ATen\\native\\Resize.cpp:35.)\n",
      "  torch.index_select(y1, 0, idx, out=yy1)\n",
      "C:\\Users\\eunhak\\workspace\\face_detection\\S3FD\\layers\\bbox_utils.py:289: UserWarning: An output with one or more elements was resized since it had shape [35], which does not match the required output shape [32]. This behavior is deprecated, and in a future PyTorch release outputs will not be resized unless they have zero elements. You can explicitly reuse an out tensor t by resizing it, inplace, to zero elements with t.resize_(0). (Triggered internally at C:\\actions-runner\\_work\\pytorch\\pytorch\\builder\\windows\\pytorch\\aten\\src\\ATen\\native\\Resize.cpp:35.)\n",
      "  torch.index_select(x2, 0, idx, out=xx2)\n",
      "C:\\Users\\eunhak\\workspace\\face_detection\\S3FD\\layers\\bbox_utils.py:290: UserWarning: An output with one or more elements was resized since it had shape [35], which does not match the required output shape [32]. This behavior is deprecated, and in a future PyTorch release outputs will not be resized unless they have zero elements. You can explicitly reuse an out tensor t by resizing it, inplace, to zero elements with t.resize_(0). (Triggered internally at C:\\actions-runner\\_work\\pytorch\\pytorch\\builder\\windows\\pytorch\\aten\\src\\ATen\\native\\Resize.cpp:35.)\n",
      "  torch.index_select(y2, 0, idx, out=yy2)\n",
      "C:\\Users\\eunhak\\workspace\\face_detection\\S3FD\\layers\\bbox_utils.py:287: UserWarning: An output with one or more elements was resized since it had shape [32], which does not match the required output shape [29]. This behavior is deprecated, and in a future PyTorch release outputs will not be resized unless they have zero elements. You can explicitly reuse an out tensor t by resizing it, inplace, to zero elements with t.resize_(0). (Triggered internally at C:\\actions-runner\\_work\\pytorch\\pytorch\\builder\\windows\\pytorch\\aten\\src\\ATen\\native\\Resize.cpp:35.)\n",
      "  torch.index_select(x1, 0, idx, out=xx1)\n",
      "C:\\Users\\eunhak\\workspace\\face_detection\\S3FD\\layers\\bbox_utils.py:288: UserWarning: An output with one or more elements was resized since it had shape [32], which does not match the required output shape [29]. This behavior is deprecated, and in a future PyTorch release outputs will not be resized unless they have zero elements. You can explicitly reuse an out tensor t by resizing it, inplace, to zero elements with t.resize_(0). (Triggered internally at C:\\actions-runner\\_work\\pytorch\\pytorch\\builder\\windows\\pytorch\\aten\\src\\ATen\\native\\Resize.cpp:35.)\n",
      "  torch.index_select(y1, 0, idx, out=yy1)\n",
      "C:\\Users\\eunhak\\workspace\\face_detection\\S3FD\\layers\\bbox_utils.py:289: UserWarning: An output with one or more elements was resized since it had shape [32], which does not match the required output shape [29]. This behavior is deprecated, and in a future PyTorch release outputs will not be resized unless they have zero elements. You can explicitly reuse an out tensor t by resizing it, inplace, to zero elements with t.resize_(0). (Triggered internally at C:\\actions-runner\\_work\\pytorch\\pytorch\\builder\\windows\\pytorch\\aten\\src\\ATen\\native\\Resize.cpp:35.)\n",
      "  torch.index_select(x2, 0, idx, out=xx2)\n",
      "C:\\Users\\eunhak\\workspace\\face_detection\\S3FD\\layers\\bbox_utils.py:290: UserWarning: An output with one or more elements was resized since it had shape [32], which does not match the required output shape [29]. This behavior is deprecated, and in a future PyTorch release outputs will not be resized unless they have zero elements. You can explicitly reuse an out tensor t by resizing it, inplace, to zero elements with t.resize_(0). (Triggered internally at C:\\actions-runner\\_work\\pytorch\\pytorch\\builder\\windows\\pytorch\\aten\\src\\ATen\\native\\Resize.cpp:35.)\n",
      "  torch.index_select(y2, 0, idx, out=yy2)\n",
      "C:\\Users\\eunhak\\workspace\\face_detection\\S3FD\\layers\\bbox_utils.py:287: UserWarning: An output with one or more elements was resized since it had shape [29], which does not match the required output shape [24]. This behavior is deprecated, and in a future PyTorch release outputs will not be resized unless they have zero elements. You can explicitly reuse an out tensor t by resizing it, inplace, to zero elements with t.resize_(0). (Triggered internally at C:\\actions-runner\\_work\\pytorch\\pytorch\\builder\\windows\\pytorch\\aten\\src\\ATen\\native\\Resize.cpp:35.)\n",
      "  torch.index_select(x1, 0, idx, out=xx1)\n",
      "C:\\Users\\eunhak\\workspace\\face_detection\\S3FD\\layers\\bbox_utils.py:288: UserWarning: An output with one or more elements was resized since it had shape [29], which does not match the required output shape [24]. This behavior is deprecated, and in a future PyTorch release outputs will not be resized unless they have zero elements. You can explicitly reuse an out tensor t by resizing it, inplace, to zero elements with t.resize_(0). (Triggered internally at C:\\actions-runner\\_work\\pytorch\\pytorch\\builder\\windows\\pytorch\\aten\\src\\ATen\\native\\Resize.cpp:35.)\n",
      "  torch.index_select(y1, 0, idx, out=yy1)\n",
      "C:\\Users\\eunhak\\workspace\\face_detection\\S3FD\\layers\\bbox_utils.py:289: UserWarning: An output with one or more elements was resized since it had shape [29], which does not match the required output shape [24]. This behavior is deprecated, and in a future PyTorch release outputs will not be resized unless they have zero elements. You can explicitly reuse an out tensor t by resizing it, inplace, to zero elements with t.resize_(0). (Triggered internally at C:\\actions-runner\\_work\\pytorch\\pytorch\\builder\\windows\\pytorch\\aten\\src\\ATen\\native\\Resize.cpp:35.)\n",
      "  torch.index_select(x2, 0, idx, out=xx2)\n",
      "C:\\Users\\eunhak\\workspace\\face_detection\\S3FD\\layers\\bbox_utils.py:290: UserWarning: An output with one or more elements was resized since it had shape [29], which does not match the required output shape [24]. This behavior is deprecated, and in a future PyTorch release outputs will not be resized unless they have zero elements. You can explicitly reuse an out tensor t by resizing it, inplace, to zero elements with t.resize_(0). (Triggered internally at C:\\actions-runner\\_work\\pytorch\\pytorch\\builder\\windows\\pytorch\\aten\\src\\ATen\\native\\Resize.cpp:35.)\n",
      "  torch.index_select(y2, 0, idx, out=yy2)\n",
      "C:\\Users\\eunhak\\workspace\\face_detection\\S3FD\\layers\\bbox_utils.py:287: UserWarning: An output with one or more elements was resized since it had shape [24], which does not match the required output shape [21]. This behavior is deprecated, and in a future PyTorch release outputs will not be resized unless they have zero elements. You can explicitly reuse an out tensor t by resizing it, inplace, to zero elements with t.resize_(0). (Triggered internally at C:\\actions-runner\\_work\\pytorch\\pytorch\\builder\\windows\\pytorch\\aten\\src\\ATen\\native\\Resize.cpp:35.)\n",
      "  torch.index_select(x1, 0, idx, out=xx1)\n",
      "C:\\Users\\eunhak\\workspace\\face_detection\\S3FD\\layers\\bbox_utils.py:288: UserWarning: An output with one or more elements was resized since it had shape [24], which does not match the required output shape [21]. This behavior is deprecated, and in a future PyTorch release outputs will not be resized unless they have zero elements. You can explicitly reuse an out tensor t by resizing it, inplace, to zero elements with t.resize_(0). (Triggered internally at C:\\actions-runner\\_work\\pytorch\\pytorch\\builder\\windows\\pytorch\\aten\\src\\ATen\\native\\Resize.cpp:35.)\n",
      "  torch.index_select(y1, 0, idx, out=yy1)\n",
      "C:\\Users\\eunhak\\workspace\\face_detection\\S3FD\\layers\\bbox_utils.py:289: UserWarning: An output with one or more elements was resized since it had shape [24], which does not match the required output shape [21]. This behavior is deprecated, and in a future PyTorch release outputs will not be resized unless they have zero elements. You can explicitly reuse an out tensor t by resizing it, inplace, to zero elements with t.resize_(0). (Triggered internally at C:\\actions-runner\\_work\\pytorch\\pytorch\\builder\\windows\\pytorch\\aten\\src\\ATen\\native\\Resize.cpp:35.)\n",
      "  torch.index_select(x2, 0, idx, out=xx2)\n",
      "C:\\Users\\eunhak\\workspace\\face_detection\\S3FD\\layers\\bbox_utils.py:290: UserWarning: An output with one or more elements was resized since it had shape [24], which does not match the required output shape [21]. This behavior is deprecated, and in a future PyTorch release outputs will not be resized unless they have zero elements. You can explicitly reuse an out tensor t by resizing it, inplace, to zero elements with t.resize_(0). (Triggered internally at C:\\actions-runner\\_work\\pytorch\\pytorch\\builder\\windows\\pytorch\\aten\\src\\ATen\\native\\Resize.cpp:35.)\n",
      "  torch.index_select(y2, 0, idx, out=yy2)\n",
      "C:\\Users\\eunhak\\workspace\\face_detection\\S3FD\\layers\\bbox_utils.py:287: UserWarning: An output with one or more elements was resized since it had shape [21], which does not match the required output shape [20]. This behavior is deprecated, and in a future PyTorch release outputs will not be resized unless they have zero elements. You can explicitly reuse an out tensor t by resizing it, inplace, to zero elements with t.resize_(0). (Triggered internally at C:\\actions-runner\\_work\\pytorch\\pytorch\\builder\\windows\\pytorch\\aten\\src\\ATen\\native\\Resize.cpp:35.)\n",
      "  torch.index_select(x1, 0, idx, out=xx1)\n",
      "C:\\Users\\eunhak\\workspace\\face_detection\\S3FD\\layers\\bbox_utils.py:288: UserWarning: An output with one or more elements was resized since it had shape [21], which does not match the required output shape [20]. This behavior is deprecated, and in a future PyTorch release outputs will not be resized unless they have zero elements. You can explicitly reuse an out tensor t by resizing it, inplace, to zero elements with t.resize_(0). (Triggered internally at C:\\actions-runner\\_work\\pytorch\\pytorch\\builder\\windows\\pytorch\\aten\\src\\ATen\\native\\Resize.cpp:35.)\n",
      "  torch.index_select(y1, 0, idx, out=yy1)\n",
      "C:\\Users\\eunhak\\workspace\\face_detection\\S3FD\\layers\\bbox_utils.py:289: UserWarning: An output with one or more elements was resized since it had shape [21], which does not match the required output shape [20]. This behavior is deprecated, and in a future PyTorch release outputs will not be resized unless they have zero elements. You can explicitly reuse an out tensor t by resizing it, inplace, to zero elements with t.resize_(0). (Triggered internally at C:\\actions-runner\\_work\\pytorch\\pytorch\\builder\\windows\\pytorch\\aten\\src\\ATen\\native\\Resize.cpp:35.)\n",
      "  torch.index_select(x2, 0, idx, out=xx2)\n",
      "C:\\Users\\eunhak\\workspace\\face_detection\\S3FD\\layers\\bbox_utils.py:290: UserWarning: An output with one or more elements was resized since it had shape [21], which does not match the required output shape [20]. This behavior is deprecated, and in a future PyTorch release outputs will not be resized unless they have zero elements. You can explicitly reuse an out tensor t by resizing it, inplace, to zero elements with t.resize_(0). (Triggered internally at C:\\actions-runner\\_work\\pytorch\\pytorch\\builder\\windows\\pytorch\\aten\\src\\ATen\\native\\Resize.cpp:35.)\n",
      "  torch.index_select(y2, 0, idx, out=yy2)\n",
      "C:\\Users\\eunhak\\workspace\\face_detection\\S3FD\\layers\\bbox_utils.py:287: UserWarning: An output with one or more elements was resized since it had shape [20], which does not match the required output shape [18]. This behavior is deprecated, and in a future PyTorch release outputs will not be resized unless they have zero elements. You can explicitly reuse an out tensor t by resizing it, inplace, to zero elements with t.resize_(0). (Triggered internally at C:\\actions-runner\\_work\\pytorch\\pytorch\\builder\\windows\\pytorch\\aten\\src\\ATen\\native\\Resize.cpp:35.)\n",
      "  torch.index_select(x1, 0, idx, out=xx1)\n",
      "C:\\Users\\eunhak\\workspace\\face_detection\\S3FD\\layers\\bbox_utils.py:288: UserWarning: An output with one or more elements was resized since it had shape [20], which does not match the required output shape [18]. This behavior is deprecated, and in a future PyTorch release outputs will not be resized unless they have zero elements. You can explicitly reuse an out tensor t by resizing it, inplace, to zero elements with t.resize_(0). (Triggered internally at C:\\actions-runner\\_work\\pytorch\\pytorch\\builder\\windows\\pytorch\\aten\\src\\ATen\\native\\Resize.cpp:35.)\n",
      "  torch.index_select(y1, 0, idx, out=yy1)\n",
      "C:\\Users\\eunhak\\workspace\\face_detection\\S3FD\\layers\\bbox_utils.py:289: UserWarning: An output with one or more elements was resized since it had shape [20], which does not match the required output shape [18]. This behavior is deprecated, and in a future PyTorch release outputs will not be resized unless they have zero elements. You can explicitly reuse an out tensor t by resizing it, inplace, to zero elements with t.resize_(0). (Triggered internally at C:\\actions-runner\\_work\\pytorch\\pytorch\\builder\\windows\\pytorch\\aten\\src\\ATen\\native\\Resize.cpp:35.)\n",
      "  torch.index_select(x2, 0, idx, out=xx2)\n",
      "C:\\Users\\eunhak\\workspace\\face_detection\\S3FD\\layers\\bbox_utils.py:290: UserWarning: An output with one or more elements was resized since it had shape [20], which does not match the required output shape [18]. This behavior is deprecated, and in a future PyTorch release outputs will not be resized unless they have zero elements. You can explicitly reuse an out tensor t by resizing it, inplace, to zero elements with t.resize_(0). (Triggered internally at C:\\actions-runner\\_work\\pytorch\\pytorch\\builder\\windows\\pytorch\\aten\\src\\ATen\\native\\Resize.cpp:35.)\n",
      "  torch.index_select(y2, 0, idx, out=yy2)\n",
      "C:\\Users\\eunhak\\workspace\\face_detection\\S3FD\\layers\\bbox_utils.py:287: UserWarning: An output with one or more elements was resized since it had shape [18], which does not match the required output shape [16]. This behavior is deprecated, and in a future PyTorch release outputs will not be resized unless they have zero elements. You can explicitly reuse an out tensor t by resizing it, inplace, to zero elements with t.resize_(0). (Triggered internally at C:\\actions-runner\\_work\\pytorch\\pytorch\\builder\\windows\\pytorch\\aten\\src\\ATen\\native\\Resize.cpp:35.)\n",
      "  torch.index_select(x1, 0, idx, out=xx1)\n",
      "C:\\Users\\eunhak\\workspace\\face_detection\\S3FD\\layers\\bbox_utils.py:288: UserWarning: An output with one or more elements was resized since it had shape [18], which does not match the required output shape [16]. This behavior is deprecated, and in a future PyTorch release outputs will not be resized unless they have zero elements. You can explicitly reuse an out tensor t by resizing it, inplace, to zero elements with t.resize_(0). (Triggered internally at C:\\actions-runner\\_work\\pytorch\\pytorch\\builder\\windows\\pytorch\\aten\\src\\ATen\\native\\Resize.cpp:35.)\n",
      "  torch.index_select(y1, 0, idx, out=yy1)\n",
      "C:\\Users\\eunhak\\workspace\\face_detection\\S3FD\\layers\\bbox_utils.py:289: UserWarning: An output with one or more elements was resized since it had shape [18], which does not match the required output shape [16]. This behavior is deprecated, and in a future PyTorch release outputs will not be resized unless they have zero elements. You can explicitly reuse an out tensor t by resizing it, inplace, to zero elements with t.resize_(0). (Triggered internally at C:\\actions-runner\\_work\\pytorch\\pytorch\\builder\\windows\\pytorch\\aten\\src\\ATen\\native\\Resize.cpp:35.)\n",
      "  torch.index_select(x2, 0, idx, out=xx2)\n",
      "C:\\Users\\eunhak\\workspace\\face_detection\\S3FD\\layers\\bbox_utils.py:290: UserWarning: An output with one or more elements was resized since it had shape [18], which does not match the required output shape [16]. This behavior is deprecated, and in a future PyTorch release outputs will not be resized unless they have zero elements. You can explicitly reuse an out tensor t by resizing it, inplace, to zero elements with t.resize_(0). (Triggered internally at C:\\actions-runner\\_work\\pytorch\\pytorch\\builder\\windows\\pytorch\\aten\\src\\ATen\\native\\Resize.cpp:35.)\n",
      "  torch.index_select(y2, 0, idx, out=yy2)\n",
      "C:\\Users\\eunhak\\workspace\\face_detection\\S3FD\\layers\\bbox_utils.py:287: UserWarning: An output with one or more elements was resized since it had shape [16], which does not match the required output shape [14]. This behavior is deprecated, and in a future PyTorch release outputs will not be resized unless they have zero elements. You can explicitly reuse an out tensor t by resizing it, inplace, to zero elements with t.resize_(0). (Triggered internally at C:\\actions-runner\\_work\\pytorch\\pytorch\\builder\\windows\\pytorch\\aten\\src\\ATen\\native\\Resize.cpp:35.)\n",
      "  torch.index_select(x1, 0, idx, out=xx1)\n",
      "C:\\Users\\eunhak\\workspace\\face_detection\\S3FD\\layers\\bbox_utils.py:288: UserWarning: An output with one or more elements was resized since it had shape [16], which does not match the required output shape [14]. This behavior is deprecated, and in a future PyTorch release outputs will not be resized unless they have zero elements. You can explicitly reuse an out tensor t by resizing it, inplace, to zero elements with t.resize_(0). (Triggered internally at C:\\actions-runner\\_work\\pytorch\\pytorch\\builder\\windows\\pytorch\\aten\\src\\ATen\\native\\Resize.cpp:35.)\n",
      "  torch.index_select(y1, 0, idx, out=yy1)\n",
      "C:\\Users\\eunhak\\workspace\\face_detection\\S3FD\\layers\\bbox_utils.py:289: UserWarning: An output with one or more elements was resized since it had shape [16], which does not match the required output shape [14]. This behavior is deprecated, and in a future PyTorch release outputs will not be resized unless they have zero elements. You can explicitly reuse an out tensor t by resizing it, inplace, to zero elements with t.resize_(0). (Triggered internally at C:\\actions-runner\\_work\\pytorch\\pytorch\\builder\\windows\\pytorch\\aten\\src\\ATen\\native\\Resize.cpp:35.)\n",
      "  torch.index_select(x2, 0, idx, out=xx2)\n",
      "C:\\Users\\eunhak\\workspace\\face_detection\\S3FD\\layers\\bbox_utils.py:290: UserWarning: An output with one or more elements was resized since it had shape [16], which does not match the required output shape [14]. This behavior is deprecated, and in a future PyTorch release outputs will not be resized unless they have zero elements. You can explicitly reuse an out tensor t by resizing it, inplace, to zero elements with t.resize_(0). (Triggered internally at C:\\actions-runner\\_work\\pytorch\\pytorch\\builder\\windows\\pytorch\\aten\\src\\ATen\\native\\Resize.cpp:35.)\n",
      "  torch.index_select(y2, 0, idx, out=yy2)\n",
      "C:\\Users\\eunhak\\workspace\\face_detection\\S3FD\\layers\\bbox_utils.py:287: UserWarning: An output with one or more elements was resized since it had shape [14], which does not match the required output shape [11]. This behavior is deprecated, and in a future PyTorch release outputs will not be resized unless they have zero elements. You can explicitly reuse an out tensor t by resizing it, inplace, to zero elements with t.resize_(0). (Triggered internally at C:\\actions-runner\\_work\\pytorch\\pytorch\\builder\\windows\\pytorch\\aten\\src\\ATen\\native\\Resize.cpp:35.)\n",
      "  torch.index_select(x1, 0, idx, out=xx1)\n",
      "C:\\Users\\eunhak\\workspace\\face_detection\\S3FD\\layers\\bbox_utils.py:288: UserWarning: An output with one or more elements was resized since it had shape [14], which does not match the required output shape [11]. This behavior is deprecated, and in a future PyTorch release outputs will not be resized unless they have zero elements. You can explicitly reuse an out tensor t by resizing it, inplace, to zero elements with t.resize_(0). (Triggered internally at C:\\actions-runner\\_work\\pytorch\\pytorch\\builder\\windows\\pytorch\\aten\\src\\ATen\\native\\Resize.cpp:35.)\n",
      "  torch.index_select(y1, 0, idx, out=yy1)\n",
      "C:\\Users\\eunhak\\workspace\\face_detection\\S3FD\\layers\\bbox_utils.py:289: UserWarning: An output with one or more elements was resized since it had shape [14], which does not match the required output shape [11]. This behavior is deprecated, and in a future PyTorch release outputs will not be resized unless they have zero elements. You can explicitly reuse an out tensor t by resizing it, inplace, to zero elements with t.resize_(0). (Triggered internally at C:\\actions-runner\\_work\\pytorch\\pytorch\\builder\\windows\\pytorch\\aten\\src\\ATen\\native\\Resize.cpp:35.)\n",
      "  torch.index_select(x2, 0, idx, out=xx2)\n",
      "C:\\Users\\eunhak\\workspace\\face_detection\\S3FD\\layers\\bbox_utils.py:290: UserWarning: An output with one or more elements was resized since it had shape [14], which does not match the required output shape [11]. This behavior is deprecated, and in a future PyTorch release outputs will not be resized unless they have zero elements. You can explicitly reuse an out tensor t by resizing it, inplace, to zero elements with t.resize_(0). (Triggered internally at C:\\actions-runner\\_work\\pytorch\\pytorch\\builder\\windows\\pytorch\\aten\\src\\ATen\\native\\Resize.cpp:35.)\n",
      "  torch.index_select(y2, 0, idx, out=yy2)\n",
      "C:\\Users\\eunhak\\workspace\\face_detection\\S3FD\\layers\\bbox_utils.py:287: UserWarning: An output with one or more elements was resized since it had shape [11], which does not match the required output shape [6]. This behavior is deprecated, and in a future PyTorch release outputs will not be resized unless they have zero elements. You can explicitly reuse an out tensor t by resizing it, inplace, to zero elements with t.resize_(0). (Triggered internally at C:\\actions-runner\\_work\\pytorch\\pytorch\\builder\\windows\\pytorch\\aten\\src\\ATen\\native\\Resize.cpp:35.)\n",
      "  torch.index_select(x1, 0, idx, out=xx1)\n",
      "C:\\Users\\eunhak\\workspace\\face_detection\\S3FD\\layers\\bbox_utils.py:288: UserWarning: An output with one or more elements was resized since it had shape [11], which does not match the required output shape [6]. This behavior is deprecated, and in a future PyTorch release outputs will not be resized unless they have zero elements. You can explicitly reuse an out tensor t by resizing it, inplace, to zero elements with t.resize_(0). (Triggered internally at C:\\actions-runner\\_work\\pytorch\\pytorch\\builder\\windows\\pytorch\\aten\\src\\ATen\\native\\Resize.cpp:35.)\n",
      "  torch.index_select(y1, 0, idx, out=yy1)\n",
      "C:\\Users\\eunhak\\workspace\\face_detection\\S3FD\\layers\\bbox_utils.py:289: UserWarning: An output with one or more elements was resized since it had shape [11], which does not match the required output shape [6]. This behavior is deprecated, and in a future PyTorch release outputs will not be resized unless they have zero elements. You can explicitly reuse an out tensor t by resizing it, inplace, to zero elements with t.resize_(0). (Triggered internally at C:\\actions-runner\\_work\\pytorch\\pytorch\\builder\\windows\\pytorch\\aten\\src\\ATen\\native\\Resize.cpp:35.)\n",
      "  torch.index_select(x2, 0, idx, out=xx2)\n",
      "C:\\Users\\eunhak\\workspace\\face_detection\\S3FD\\layers\\bbox_utils.py:290: UserWarning: An output with one or more elements was resized since it had shape [11], which does not match the required output shape [6]. This behavior is deprecated, and in a future PyTorch release outputs will not be resized unless they have zero elements. You can explicitly reuse an out tensor t by resizing it, inplace, to zero elements with t.resize_(0). (Triggered internally at C:\\actions-runner\\_work\\pytorch\\pytorch\\builder\\windows\\pytorch\\aten\\src\\ATen\\native\\Resize.cpp:35.)\n",
      "  torch.index_select(y2, 0, idx, out=yy2)\n",
      "C:\\Users\\eunhak\\workspace\\face_detection\\S3FD\\layers\\bbox_utils.py:287: UserWarning: An output with one or more elements was resized since it had shape [6], which does not match the required output shape [4]. This behavior is deprecated, and in a future PyTorch release outputs will not be resized unless they have zero elements. You can explicitly reuse an out tensor t by resizing it, inplace, to zero elements with t.resize_(0). (Triggered internally at C:\\actions-runner\\_work\\pytorch\\pytorch\\builder\\windows\\pytorch\\aten\\src\\ATen\\native\\Resize.cpp:35.)\n",
      "  torch.index_select(x1, 0, idx, out=xx1)\n",
      "C:\\Users\\eunhak\\workspace\\face_detection\\S3FD\\layers\\bbox_utils.py:288: UserWarning: An output with one or more elements was resized since it had shape [6], which does not match the required output shape [4]. This behavior is deprecated, and in a future PyTorch release outputs will not be resized unless they have zero elements. You can explicitly reuse an out tensor t by resizing it, inplace, to zero elements with t.resize_(0). (Triggered internally at C:\\actions-runner\\_work\\pytorch\\pytorch\\builder\\windows\\pytorch\\aten\\src\\ATen\\native\\Resize.cpp:35.)\n",
      "  torch.index_select(y1, 0, idx, out=yy1)\n",
      "C:\\Users\\eunhak\\workspace\\face_detection\\S3FD\\layers\\bbox_utils.py:289: UserWarning: An output with one or more elements was resized since it had shape [6], which does not match the required output shape [4]. This behavior is deprecated, and in a future PyTorch release outputs will not be resized unless they have zero elements. You can explicitly reuse an out tensor t by resizing it, inplace, to zero elements with t.resize_(0). (Triggered internally at C:\\actions-runner\\_work\\pytorch\\pytorch\\builder\\windows\\pytorch\\aten\\src\\ATen\\native\\Resize.cpp:35.)\n",
      "  torch.index_select(x2, 0, idx, out=xx2)\n",
      "C:\\Users\\eunhak\\workspace\\face_detection\\S3FD\\layers\\bbox_utils.py:290: UserWarning: An output with one or more elements was resized since it had shape [6], which does not match the required output shape [4]. This behavior is deprecated, and in a future PyTorch release outputs will not be resized unless they have zero elements. You can explicitly reuse an out tensor t by resizing it, inplace, to zero elements with t.resize_(0). (Triggered internally at C:\\actions-runner\\_work\\pytorch\\pytorch\\builder\\windows\\pytorch\\aten\\src\\ATen\\native\\Resize.cpp:35.)\n",
      "  torch.index_select(y2, 0, idx, out=yy2)\n",
      "C:\\Users\\eunhak\\workspace\\face_detection\\S3FD\\layers\\bbox_utils.py:287: UserWarning: An output with one or more elements was resized since it had shape [4], which does not match the required output shape [2]. This behavior is deprecated, and in a future PyTorch release outputs will not be resized unless they have zero elements. You can explicitly reuse an out tensor t by resizing it, inplace, to zero elements with t.resize_(0). (Triggered internally at C:\\actions-runner\\_work\\pytorch\\pytorch\\builder\\windows\\pytorch\\aten\\src\\ATen\\native\\Resize.cpp:35.)\n",
      "  torch.index_select(x1, 0, idx, out=xx1)\n",
      "C:\\Users\\eunhak\\workspace\\face_detection\\S3FD\\layers\\bbox_utils.py:288: UserWarning: An output with one or more elements was resized since it had shape [4], which does not match the required output shape [2]. This behavior is deprecated, and in a future PyTorch release outputs will not be resized unless they have zero elements. You can explicitly reuse an out tensor t by resizing it, inplace, to zero elements with t.resize_(0). (Triggered internally at C:\\actions-runner\\_work\\pytorch\\pytorch\\builder\\windows\\pytorch\\aten\\src\\ATen\\native\\Resize.cpp:35.)\n",
      "  torch.index_select(y1, 0, idx, out=yy1)\n",
      "C:\\Users\\eunhak\\workspace\\face_detection\\S3FD\\layers\\bbox_utils.py:289: UserWarning: An output with one or more elements was resized since it had shape [4], which does not match the required output shape [2]. This behavior is deprecated, and in a future PyTorch release outputs will not be resized unless they have zero elements. You can explicitly reuse an out tensor t by resizing it, inplace, to zero elements with t.resize_(0). (Triggered internally at C:\\actions-runner\\_work\\pytorch\\pytorch\\builder\\windows\\pytorch\\aten\\src\\ATen\\native\\Resize.cpp:35.)\n",
      "  torch.index_select(x2, 0, idx, out=xx2)\n",
      "C:\\Users\\eunhak\\workspace\\face_detection\\S3FD\\layers\\bbox_utils.py:290: UserWarning: An output with one or more elements was resized since it had shape [4], which does not match the required output shape [2]. This behavior is deprecated, and in a future PyTorch release outputs will not be resized unless they have zero elements. You can explicitly reuse an out tensor t by resizing it, inplace, to zero elements with t.resize_(0). (Triggered internally at C:\\actions-runner\\_work\\pytorch\\pytorch\\builder\\windows\\pytorch\\aten\\src\\ATen\\native\\Resize.cpp:35.)\n",
      "  torch.index_select(y2, 0, idx, out=yy2)\n",
      "C:\\Users\\eunhak\\workspace\\face_detection\\S3FD\\layers\\bbox_utils.py:287: UserWarning: An output with one or more elements was resized since it had shape [2], which does not match the required output shape [1]. This behavior is deprecated, and in a future PyTorch release outputs will not be resized unless they have zero elements. You can explicitly reuse an out tensor t by resizing it, inplace, to zero elements with t.resize_(0). (Triggered internally at C:\\actions-runner\\_work\\pytorch\\pytorch\\builder\\windows\\pytorch\\aten\\src\\ATen\\native\\Resize.cpp:35.)\n",
      "  torch.index_select(x1, 0, idx, out=xx1)\n",
      "C:\\Users\\eunhak\\workspace\\face_detection\\S3FD\\layers\\bbox_utils.py:288: UserWarning: An output with one or more elements was resized since it had shape [2], which does not match the required output shape [1]. This behavior is deprecated, and in a future PyTorch release outputs will not be resized unless they have zero elements. You can explicitly reuse an out tensor t by resizing it, inplace, to zero elements with t.resize_(0). (Triggered internally at C:\\actions-runner\\_work\\pytorch\\pytorch\\builder\\windows\\pytorch\\aten\\src\\ATen\\native\\Resize.cpp:35.)\n",
      "  torch.index_select(y1, 0, idx, out=yy1)\n",
      "C:\\Users\\eunhak\\workspace\\face_detection\\S3FD\\layers\\bbox_utils.py:289: UserWarning: An output with one or more elements was resized since it had shape [2], which does not match the required output shape [1]. This behavior is deprecated, and in a future PyTorch release outputs will not be resized unless they have zero elements. You can explicitly reuse an out tensor t by resizing it, inplace, to zero elements with t.resize_(0). (Triggered internally at C:\\actions-runner\\_work\\pytorch\\pytorch\\builder\\windows\\pytorch\\aten\\src\\ATen\\native\\Resize.cpp:35.)\n",
      "  torch.index_select(x2, 0, idx, out=xx2)\n",
      "C:\\Users\\eunhak\\workspace\\face_detection\\S3FD\\layers\\bbox_utils.py:290: UserWarning: An output with one or more elements was resized since it had shape [2], which does not match the required output shape [1]. This behavior is deprecated, and in a future PyTorch release outputs will not be resized unless they have zero elements. You can explicitly reuse an out tensor t by resizing it, inplace, to zero elements with t.resize_(0). (Triggered internally at C:\\actions-runner\\_work\\pytorch\\pytorch\\builder\\windows\\pytorch\\aten\\src\\ATen\\native\\Resize.cpp:35.)\n",
      "  torch.index_select(y2, 0, idx, out=yy2)\n"
     ]
    }
   ],
   "execution_count": 5
  },
  {
   "metadata": {
    "ExecuteTime": {
     "end_time": "2024-11-19T03:58:10.731661Z",
     "start_time": "2024-11-19T03:58:02.986614Z"
    }
   },
   "cell_type": "code",
   "source": [
    "# 시각화\n",
    "for face in faces:\n",
    "    x_min, y_min, x_max, y_max = map(int, face.bbox)\n",
    "    cv2.rectangle(frame, (x_min, y_min), (x_max, y_max), (0, 255, 0), 2)  # 경계 상자\n",
    "    cv2.putText(frame, f\"{face.conf:.2f}\", (x_min, y_min - 10),\n",
    "                cv2.FONT_HERSHEY_SIMPLEX, 0.5, (0, 255, 0), 2)  # 신뢰도\n",
    "\n",
    "# 결과 이미지 보기\n",
    "cv2.imshow('Detected Faces', frame)\n",
    "cv2.waitKey(0)\n",
    "cv2.destroyAllWindows()"
   ],
   "id": "a5ccdcd626c8af1a",
   "outputs": [],
   "execution_count": 6
  },
  {
   "metadata": {},
   "cell_type": "markdown",
   "source": "- FGSM",
   "id": "3d852f4279de5846"
  },
  {
   "metadata": {
    "ExecuteTime": {
     "end_time": "2024-11-19T03:58:14.862906Z",
     "start_time": "2024-11-19T03:58:14.681032Z"
    }
   },
   "cell_type": "code",
   "source": [
    "mode = 'attack'\n",
    "model = load_model(phase=mode, device='cpu')"
   ],
   "id": "eb4421053c8dd801",
   "outputs": [],
   "execution_count": 7
  },
  {
   "metadata": {
    "ExecuteTime": {
     "end_time": "2024-11-19T03:58:57.197539Z",
     "start_time": "2024-11-19T03:58:52.512024Z"
    }
   },
   "cell_type": "code",
   "source": [
    "image_path = \"./images/test_image.jpg\"\n",
    "frame = cv2.imread(image_path)\n",
    "frame = cv2.cvtColor(frame, cv2.COLOR_BGR2RGB)\n",
    "image_tensor = torch.from_numpy(frame).permute(2, 0, 1).unsqueeze(0).float() / 255.0  # Normalize to [0, 1]\n",
    "\n",
    "output = model(image_tensor)\n",
    "decoded_boxes, conf_preds = output\n",
    "\n",
    "print(decoded_boxes.shape, conf_preds.shape)"
   ],
   "id": "ec05e378d628b602",
   "outputs": [
    {
     "name": "stdout",
     "output_type": "stream",
     "text": [
      "torch.Size([1, 96803, 4]) torch.Size([1, 2, 96803])\n"
     ]
    }
   ],
   "execution_count": 9
  },
  {
   "metadata": {
    "ExecuteTime": {
     "end_time": "2024-11-19T04:19:52.535094Z",
     "start_time": "2024-11-19T04:19:52.514374Z"
    }
   },
   "cell_type": "code",
   "source": [
    "import torch\n",
    "import torch.nn.functional as F\n",
    "import numpy as np\n",
    "\n",
    "def fgsm_attack(image, epsilon, gradient):\n",
    "    # 그래디언트의 부호를 기반으로 입력 데이터 교란\n",
    "    sign_gradient = gradient.sign()\n",
    "    perturbed_image = image + epsilon * sign_gradient\n",
    "    \n",
    "    # 이미지를 [0, 1] 범위로 클리핑\n",
    "    perturbed_image = torch.clamp(perturbed_image, 0, 1)\n",
    "    return perturbed_image\n",
    "\n",
    "def attack_s3fd(model, image, epsilon):\n",
    "    \"\"\"\n",
    "    FGSM 공격을 통해 S3FD 모델의 신뢰도를 교란.\n",
    "    Args:\n",
    "        model: S3FD 모델\n",
    "        image: 입력 이미지 (Tensor, shape: [1, 3, H, W])\n",
    "        epsilon: 노이즈 강도\n",
    "    Returns:\n",
    "        perturbed_image: 공격 후 이미지\n",
    "    \"\"\"\n",
    "    # 입력 데이터에 그래디언트 활성화\n",
    "    image.requires_grad = True\n",
    "\n",
    "    # 모델 예측 수행\n",
    "    decoded_boxes, conf_preds = model(image)\n",
    "\n",
    "    # loss = -torch.max(conf_preds).mean() #########\n",
    "\n",
    "    target_class = 1  # 예: 클래스 1\n",
    "    loss = -conf_preds[:, target_class, :].mean() ######## 잘 모르겠음\n",
    "    \n",
    "    loss.backward()\n",
    "\n",
    "    # FGSM 공격 수행\n",
    "    gradient = image.grad.data\n",
    "    perturbed_image = fgsm_attack(image, epsilon, gradient)\n",
    "\n",
    "    return perturbed_image\n",
    "\n"
   ],
   "id": "af29ab64c9a530c4",
   "outputs": [],
   "execution_count": 28
  },
  {
   "metadata": {
    "ExecuteTime": {
     "end_time": "2024-11-19T04:19:54.783248Z",
     "start_time": "2024-11-19T04:19:53.534921Z"
    }
   },
   "cell_type": "code",
   "source": [
    "# 원본 이미지 로드\n",
    "image_path = \"./images/test_image.jpg\"\n",
    "frame = cv2.imread(image_path)\n",
    "frame = cv2.cvtColor(frame, cv2.COLOR_BGR2RGB)\n",
    "\n",
    "resized_frame = cv2.resize(frame, (300, 300))\n",
    "\n",
    "image_tensor = torch.from_numpy(resized_frame).permute(2, 0, 1).unsqueeze(0).float() / 255.0  # Normalize to [0, 1]\n",
    "\n",
    "model.eval()\n",
    "\n",
    "# FGSM 공격\n",
    "epsilon = 0.05  # 노이즈 강도\n",
    "perturbed_image = attack_s3fd(model, image_tensor, epsilon)\n",
    "\n",
    "# 공격 후 결과 확인\n",
    "perturbed_frame = perturbed_image.squeeze().permute(1, 2, 0).detach().numpy()\n",
    "perturbed_frame = (perturbed_frame * 255).astype('uint8')\n",
    "\n",
    "# RGB → BGR 변환\n",
    "perturbed_frame = cv2.cvtColor(perturbed_frame, cv2.COLOR_RGB2BGR)\n",
    "# 원본 이미지도 BGR 형식으로 변환\n",
    "original_frame = cv2.cvtColor(frame, cv2.COLOR_RGB2BGR)"
   ],
   "id": "4264afe80eef120",
   "outputs": [],
   "execution_count": 29
  },
  {
   "metadata": {
    "ExecuteTime": {
     "end_time": "2024-11-19T04:20:25.537131Z",
     "start_time": "2024-11-19T04:19:58.959196Z"
    }
   },
   "cell_type": "code",
   "source": [
    "# 결과 비교\n",
    "cv2.imshow(\"Original Image\", original_frame)\n",
    "cv2.imshow(\"Perturbed Image\", perturbed_frame)\n",
    "cv2.waitKey(0)\n",
    "cv2.destroyAllWindows()"
   ],
   "id": "383bb22342317b6b",
   "outputs": [],
   "execution_count": 30
  },
  {
   "metadata": {},
   "cell_type": "code",
   "outputs": [],
   "execution_count": null,
   "source": "",
   "id": "1a8c2056fe6a1bbd"
  }
 ],
 "metadata": {
  "kernelspec": {
   "display_name": "Python 3",
   "language": "python",
   "name": "python3"
  },
  "language_info": {
   "codemirror_mode": {
    "name": "ipython",
    "version": 2
   },
   "file_extension": ".py",
   "mimetype": "text/x-python",
   "name": "python",
   "nbconvert_exporter": "python",
   "pygments_lexer": "ipython2",
   "version": "2.7.6"
  }
 },
 "nbformat": 4,
 "nbformat_minor": 5
}
