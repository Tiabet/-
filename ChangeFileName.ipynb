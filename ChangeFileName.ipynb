{
 "cells": [
  {
   "cell_type": "code",
   "id": "initial_id",
   "metadata": {
    "collapsed": true,
    "ExecuteTime": {
     "end_time": "2024-12-04T12:30:13.992355Z",
     "start_time": "2024-12-04T12:30:13.968455Z"
    }
   },
   "source": [
    "import os\n",
    "\n",
    "# Define the directory containing PNG files\n",
    "directory = \"image/JOO\"  # Replace with your directory path\n",
    "\n",
    "# Define a renaming pattern\n",
    "new_name_prefix = \"JOO\"  # Replace with your desired prefix\n",
    "\n",
    "# Iterate over all files in the directory\n",
    "for index, filename in enumerate(os.listdir(directory)):\n",
    "    if filename.endswith(\".png\"):  # Only process .png files\n",
    "        # Generate new file name\n",
    "        new_name = f\"{new_name_prefix}{index+1}.png\"\n",
    "        # Get the full path for the old and new names\n",
    "        old_file_path = os.path.join(directory, filename)\n",
    "        new_file_path = os.path.join(directory, new_name)\n",
    "        # Rename the file\n",
    "        os.rename(old_file_path, new_file_path)\n",
    "\n",
    "print(\"File renaming complete!\")\n"
   ],
   "outputs": [
    {
     "name": "stdout",
     "output_type": "stream",
     "text": [
      "File renaming complete!\n"
     ]
    }
   ],
   "execution_count": 1
  },
  {
   "metadata": {},
   "cell_type": "code",
   "outputs": [],
   "execution_count": null,
   "source": "",
   "id": "98e42a7268da4561"
  }
 ],
 "metadata": {
  "kernelspec": {
   "display_name": "Python 3",
   "language": "python",
   "name": "python3"
  },
  "language_info": {
   "codemirror_mode": {
    "name": "ipython",
    "version": 2
   },
   "file_extension": ".py",
   "mimetype": "text/x-python",
   "name": "python",
   "nbconvert_exporter": "python",
   "pygments_lexer": "ipython2",
   "version": "2.7.6"
  }
 },
 "nbformat": 4,
 "nbformat_minor": 5
}
